{
 "cells": [
  {
   "cell_type": "code",
   "execution_count": 3,
   "metadata": {},
   "outputs": [
    {
     "data": {
      "text/plain": [
       "<pyspark.sql.streaming.StreamingQuery at 0x7f9b2b5563c8>"
      ]
     },
     "execution_count": 3,
     "metadata": {},
     "output_type": "execute_result"
    }
   ],
   "source": [
    "def encodeDNASeq(seq, encoding='OneHot'):\n",
    "    \"\"\"Encode nucleotides from character to double or OneHot encoding.\n",
    "    Using OneHot nucleotides are encoded as:\n",
    "    A->1000; C->0100; G->0010; T->0001; other->0000\n",
    "    Using Index as: A->1.0; C->2.0; G->3.0; t->4.0; other->0.0\n",
    "    @param: seq A string containing a sequence of nucleotides \n",
    "    @param: encoding_type output encodig: OneHot or Index\n",
    "\n",
    "    \"\"\"    \n",
    "    if encoding==\"Index\":\n",
    "        mymap = {'A':1.0, 'C':2.0, 'G':3.0, 'T':4.0, 'N':0.0}\n",
    "\n",
    "    else:\n",
    "        mymap ={'A':SparseVector(4, [0], [1]), \n",
    "                'C':SparseVector(4, [1], [1]), \n",
    "                'G':SparseVector(4, [2], [1]), \n",
    "                'T':SparseVector(4, [3], [1]), \n",
    "                'N':SparseVector(4,[0],[0])}    \n",
    "    \n",
    "    indexed_seq=list()\n",
    "    for n in seq:\n",
    "       indexed_seq.append(mymap.get(n) if n in mymap else SparseVector(4, [0], [0]))\n",
    "    return indexed_seq   \n",
    "\n",
    "\n",
    "#Inizialize Spark Context\n",
    "import findspark\n",
    "findspark.init(\"/home/osboxes/spark-2.3.1-bin-hadoop2.7\")\n",
    "\n",
    "import os\n",
    "import pyspark\n",
    "from pyspark.ml.linalg import SparseVector\n",
    "from pyspark.ml.feature import VectorAssembler\n",
    "import time\n",
    "from pyspark.sql.functions import lit\n",
    "from pyspark.sql import SparkSession\n",
    "\n",
    "#Load external Jar\n",
    "os.environ['PYSPARK_SUBMIT_ARGS'] = ' --jars /home/osboxes/brainscala/target/scala-2.11/brain-scala-utils_2.11-1.0.jar pyspark-shell'\n",
    "\n",
    "\n",
    "#Create Spark session\n",
    "spark = SparkSession \\\n",
    "    .builder \\\n",
    "    .appName(\"test\") \\\n",
    "    .getOrCreate()\n",
    "sc = spark.sparkContext\n",
    "\n",
    "#Infer data schema. The schema have to be passed to StreamingDataFrame\n",
    "sdf = spark.read.format(\"csv\")\\\n",
    ".option(\"header\",\"true\")\\\n",
    ".option(\"inferSchema\",\"true\")\\\n",
    ".load(\"streaming-seqs/*.csv\")\n",
    "sdf.createOrReplaceTempView(\"seqs\")\n",
    "staticSchema = sdf.schema\n",
    "\n",
    "#Create the StreamingDataFrame\n",
    "#Each row of each file trigger a streaming event\n",
    "streamingDataFrame = spark.readStream \\\n",
    ".schema(staticSchema)\\\n",
    ".option(\"maxFilesPerTrigger\",1)\\\n",
    ".format(\"csv\")\\\n",
    ".option(\"header\",\"true\")\\\n",
    ".load(\"streaming-seqs/*.csv\")\n",
    "\n",
    "#Create a groupByaction\n",
    "classified=streamingDataFrame.groupBy(\"seq\").count()\n",
    "\n",
    "#For each event triggered the in memory table \"instances\" is updated\n",
    "classified.writeStream\\\n",
    "    .format(\"memory\")\\\n",
    "    .queryName(\"instances\")\\\n",
    "    .outputMode(\"complete\")\\\n",
    "    .start()"
   ]
  },
  {
   "cell_type": "code",
   "execution_count": 7,
   "metadata": {},
   "outputs": [
    {
     "name": "stdout",
     "output_type": "stream",
     "text": [
      "+--------------------+-----+\n",
      "|            features|class|\n",
      "+--------------------+-----+\n",
      "|(240,[0,7,9,12,18...|  0.0|\n",
      "+--------------------+-----+\n",
      "\n",
      "+--------------------+-----+\n",
      "|            features|class|\n",
      "+--------------------+-----+\n",
      "|(240,[3,7,9,12,18...|  0.0|\n",
      "+--------------------+-----+\n",
      "\n",
      "+--------------------+-----+\n",
      "|            features|class|\n",
      "+--------------------+-----+\n",
      "|(240,[2,7,9,12,18...|  0.0|\n",
      "+--------------------+-----+\n",
      "\n",
      "+--------------------+-----+\n",
      "|            features|class|\n",
      "+--------------------+-----+\n",
      "|(240,[1,7,9,12,18...|  0.0|\n",
      "+--------------------+-----+\n",
      "\n"
     ]
    }
   ],
   "source": [
    "from pyspark.sql import Row\n",
    "from pyspark.sql import SQLContext\n",
    "from pyspark.sql import DataFrame\n",
    "sqlContext = SQLContext(sc)\n",
    "\n",
    "model = sc._jvm.brain.scala.BrainScalaModel.loadModel(\"ipdata-model\")\n",
    "\n",
    "for r in spark.sql(\" select seq from instances\").collect():\n",
    "    seq = r.asDict()[\"seq\"]\n",
    "    encoded=encodeDNASeq(seq)\n",
    "    encodedDF = spark.createDataFrame(Row(encoded)) \n",
    "    assembler = VectorAssembler(inputCols=encodedDF.columns[0:len(encodedDF.columns)],outputCol=\"features\")\n",
    "    unClassified=assembler.transform(encodedDF).select(\"features\")\n",
    "    classified = model.transform(unClassified._jdf)\n",
    "    dfTestClassified = DataFrame(classified,sqlContext)\n",
    "    dfTestClassified.show()    \n"
   ]
  },
  {
   "cell_type": "code",
   "execution_count": null,
   "metadata": {},
   "outputs": [],
   "source": []
  },
  {
   "cell_type": "code",
   "execution_count": null,
   "metadata": {},
   "outputs": [],
   "source": []
  },
  {
   "cell_type": "code",
   "execution_count": null,
   "metadata": {},
   "outputs": [],
   "source": []
  }
 ],
 "metadata": {
  "kernelspec": {
   "display_name": "Python 3",
   "language": "python",
   "name": "python3"
  },
  "language_info": {
   "codemirror_mode": {
    "name": "ipython",
    "version": 3
   },
   "file_extension": ".py",
   "mimetype": "text/x-python",
   "name": "python",
   "nbconvert_exporter": "python",
   "pygments_lexer": "ipython3",
   "version": "3.5.2"
  }
 },
 "nbformat": 4,
 "nbformat_minor": 2
}
